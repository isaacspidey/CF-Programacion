{
 "cells": [
  {
   "cell_type": "markdown",
   "metadata": {},
   "source": [
    "<div align=\"center\"> <h1> Herramientas de Programación <h1>\n",
    "\n",
    "<h2>Práctica 1: Datos estructurados: strings y listas<h12>  </div>"
   ]
  },
  {
   "cell_type": "markdown",
   "metadata": {},
   "source": [
    "<div align=\"center\"> <h3> Ejercicios con strings (cadenas de caracteres) <h3> </div>"
   ]
  },
  {
   "cell_type": "markdown",
   "metadata": {},
   "source": [
    "1. **Identificador válido**. Para que los identificadores o nombres de las variables o funciones sean\n",
    "válidos deben comenzar e incluir letras a..z. (minúscula o mayúscula) o el guión bajo (_).\n",
    "Pueden incluir también números (0..9) pero que no sean el primer carácter del identificador.\n",
    "Diseña una función FirstChar(s) que, dado un string s (no vacío), nos devuelva True o False\n",
    "si el string es válido o no para identificar o dar nombre a una variable o función."
   ]
  },
  {
   "cell_type": "code",
   "execution_count": 43,
   "metadata": {},
   "outputs": [],
   "source": [
    "def FirstChar(s):\n",
    "    \n",
    "    if s=='':\n",
    "        raise ValueError('Enter a non void string')\n",
    "\n",
    "    character = s[0]\n",
    "\n",
    "    if character.isalpha() or character =='_':\n",
    "        return True\n",
    "    else:\n",
    "        return False"
   ]
  },
  {
   "cell_type": "markdown",
   "metadata": {},
   "source": [
    "Pruebas"
   ]
  },
  {
   "cell_type": "code",
   "execution_count": 44,
   "metadata": {},
   "outputs": [
    {
     "name": "stdout",
     "output_type": "stream",
     "text": [
      "True\n",
      "True\n",
      "False\n",
      "True\n",
      "False\n"
     ]
    }
   ],
   "source": [
    "print(FirstChar('Fulanito'))\n",
    "print(FirstChar('fulanito'))\n",
    "print(FirstChar('1Menganito'))\n",
    "print(FirstChar('_Zutanito'))\n",
    "print(FirstChar('!Perenganito'))"
   ]
  },
  {
   "cell_type": "markdown",
   "metadata": {},
   "source": [
    "2. **Porcentaje de vocales**. Escribe una función porcentVocal(s) en que dado un string s, la\n",
    "función devuelva el porcentaje de vocales que contiene el string. Deben considerarse vocales\n",
    "minúsculas y mayúsculas. Devolver el resultado con un decimal de precisión.\n",
    "Consideraremos que las vocales están sin tilde o acento gráfico. Se valorará prever el caso que\n",
    "se envíe como argumento un string vacío."
   ]
  },
  {
   "cell_type": "code",
   "execution_count": 19,
   "metadata": {},
   "outputs": [],
   "source": [
    "def porcentVocals(s):\n",
    "    if s=='':\n",
    "        raise ValueError('Enter a non void string')\n",
    "    \n",
    "    vocal_counter=0\n",
    "\n",
    "    for character in s:\n",
    "        if character in ['a', 'e', 'i', 'o', 'u', 'A', 'E', 'I', 'O', 'U']:\n",
    "            vocal_counter += 1\n",
    "\n",
    "    result=vocal_counter*100/len(s)\n",
    "    \n",
    "    return round(result,1)"
   ]
  },
  {
   "cell_type": "markdown",
   "metadata": {},
   "source": [
    "Pruebas"
   ]
  },
  {
   "cell_type": "code",
   "execution_count": 20,
   "metadata": {},
   "outputs": [
    {
     "name": "stdout",
     "output_type": "stream",
     "text": [
      "43.5\n",
      "100.0\n",
      "33.3\n",
      "0.0\n",
      "4.2\n",
      "46.9\n"
     ]
    }
   ],
   "source": [
    "print(porcentVocals('Anticonstitucionalmente'))\n",
    "print(porcentVocals('Aeiou'))\n",
    "print(porcentVocals('ESP'))\n",
    "print(porcentVocals('HRC'))\n",
    "print(porcentVocals('aRRRRRRRRRRRRRRRRRRRRRRR'))\n",
    "print(porcentVocals('Supercalifragilisticoespialidoso'))"
   ]
  },
  {
   "cell_type": "markdown",
   "metadata": {},
   "source": [
    "3. **Nuevo string**. Diseña una función nuevo_string (s, n) que, dado un string s y un entero\n",
    "n ≥ 0, devuelva el string resultante de repetir cada vocal de s exactamente n veces en el lugardonde se encuentra situada en s.\n"
   ]
  },
  {
   "cell_type": "code",
   "execution_count": 21,
   "metadata": {},
   "outputs": [],
   "source": [
    "def nuevo_string(s, n):\n",
    "    \n",
    "   if type(n) != int or n < 0:\n",
    "      raise ValueError('n must be a positive integer')\n",
    "   \n",
    "   new_s=''\n",
    "\n",
    "   for character in s:\n",
    "      if character in ['a', 'e', 'i', 'o', 'u', 'A', 'E', 'I', 'O', 'U']:\n",
    "         new_s += n*character\n",
    "      else:\n",
    "         new_s += character\n",
    "\n",
    "   return new_s"
   ]
  },
  {
   "cell_type": "markdown",
   "metadata": {},
   "source": [
    "Pruebas"
   ]
  },
  {
   "cell_type": "code",
   "execution_count": 22,
   "metadata": {},
   "outputs": [
    {
     "name": "stdout",
     "output_type": "stream",
     "text": [
      "Suupeercaaliifraagiiliistiicooeespiiaaliidoosoo\n",
      "Looooooooooneeeeey Tuuuuuneeeees\n",
      "oooboooeee\n",
      "HRC\n"
     ]
    }
   ],
   "source": [
    "print(nuevo_string('Supercalifragilisticoespialidoso', 2))\n",
    "print(nuevo_string('Looney Tunes', 5))\n",
    "print(nuevo_string('oboe', 3))\n",
    "print(nuevo_string('HRC', 7))"
   ]
  },
  {
   "cell_type": "markdown",
   "metadata": {},
   "source": [
    "4. **Notas al pie de página**. Diseña una función notas_al_pie(s) que, dado un string s formado sólo por letras, signos de puntuación y asteriscos que indican una llamada a una nota al pie de página, devuelva un string donde cada asterisco es sustituido por un número entre\n",
    "paréntesis que indica el número de nota. El primer * se substituye por (1), el segundo por (2), etc."
   ]
  },
  {
   "cell_type": "code",
   "execution_count": 23,
   "metadata": {},
   "outputs": [],
   "source": [
    "def notas_al_pie(s):\n",
    "\n",
    "    if s=='':\n",
    "        raise ValueError('Enter a non void string')\n",
    "    \n",
    "    new_s=''\n",
    "    counter=1\n",
    "\n",
    "    for character in s:\n",
    "        if character == '*':\n",
    "            new_s += f\"({counter})\"\n",
    "            counter+=1\n",
    "        else:\n",
    "            new_s += character\n",
    "    \n",
    "    return new_s\n",
    "    "
   ]
  },
  {
   "cell_type": "markdown",
   "metadata": {},
   "source": [
    "Pruebas"
   ]
  },
  {
   "cell_type": "code",
   "execution_count": 24,
   "metadata": {},
   "outputs": [
    {
     "name": "stdout",
     "output_type": "stream",
     "text": [
      "Esta es la primera nota(1); y esta la segunda(2).\n",
      "Esta frase no tiene notas. Esta otra tampoco.\n",
      "(1),(2). (3).\n"
     ]
    }
   ],
   "source": [
    "print(notas_al_pie('Esta es la primera nota*; y esta la segunda*.'))\n",
    "print(notas_al_pie('Esta frase no tiene notas. Esta otra tampoco.'))\n",
    "print(notas_al_pie('*,*. *.'))"
   ]
  },
  {
   "cell_type": "markdown",
   "metadata": {},
   "source": [
    "5. **Calcula código**. Dado un string s que contiene los nombres y apellidos de una persona, diseña\n",
    "la función codigo(s) que devuelva el string ini + str(count), donde ini contiene las iniciales\n",
    "de la persona (las letras mayúsculas de s) y count es el número total de letras de sus nombres\n",
    "y apellidos (es decir, las letras de s sin contar caracteres blancos o espacios)."
   ]
  },
  {
   "cell_type": "code",
   "execution_count": 25,
   "metadata": {},
   "outputs": [],
   "source": [
    "def codigo(s):\n",
    "\n",
    "    ini=''\n",
    "    count=0\n",
    "    \n",
    "    for character in s:\n",
    "            if character.isalpha():\n",
    "                count+=1\n",
    "                if character.isupper():\n",
    "                    ini += character\n",
    "                \n",
    "    count=str(count)\n",
    "    \n",
    "    return ini+count"
   ]
  },
  {
   "cell_type": "markdown",
   "metadata": {},
   "source": [
    "Prueba"
   ]
  },
  {
   "cell_type": "code",
   "execution_count": 26,
   "metadata": {},
   "outputs": [
    {
     "name": "stdout",
     "output_type": "stream",
     "text": [
      "CRDSA31\n",
      "PM6\n",
      "PDJFPJNMRCSTMPCRP122\n"
     ]
    }
   ],
   "source": [
    "print(codigo('Cristiano Ronaldo Dos Santos Aveiro'))\n",
    "print(codigo('Pec Mac'))\n",
    "print(codigo('Pablo Diego Jose Francisco de Paula Juan Nepomuceno Maria de los Remedios Cipriano de la Santísima Trinidad Martir Patricio Clito Ruiz y Picasso'))"
   ]
  },
  {
   "cell_type": "markdown",
   "metadata": {},
   "source": [
    "6. **Contador de hidrógenos**. Una fórmula química es una representación convencional de los\n",
    "elementos que forman un compuesto. Por ejemplo, el 1-2-butadiol sería C2H5O, que se\n",
    "representa con el string 'C2H5O'. También pueden aparecer elementos químicos de dos\n",
    "caracteres como el calcio Ca en CaCO3 ( 'CaCO3') o el hierro Fe en Fe3O4 ( 'Fe3O4'). En estos\n",
    "casos el segundo carácter del símbolo siempre es una minúscula. Diseña la función\n",
    "contar_hidrogenos(s) que, dado un string s con un compuesto como los descritos antes,\n",
    "devuelve el número de átomos de hidrógeno que contiene. Para simplificar el problema,\n",
    "limitaremos el número que puede seguir el símbolo de un elemento a un valor entre 2 y 9."
   ]
  },
  {
   "cell_type": "code",
   "execution_count": 27,
   "metadata": {},
   "outputs": [],
   "source": [
    "def contar_hidrogenos(s):\n",
    "    \n",
    "    counter = 0\n",
    "    index = 0\n",
    "\n",
    "    for character in s:\n",
    "        if character == 'H':\n",
    "            counter+=1\n",
    "            if s[index+1]=='e' or s[index+1]=='f' or s[index+1]=='s': #Excepciones para He,Hf y Hs.\n",
    "                counter-=1\n",
    "            if s[index+1] in ['2', '3', '4', '5', '6', '7', '8', '9']:\n",
    "                counter+=int(s[index+1])-1\n",
    "        \n",
    "        index += 1\n",
    "    \n",
    "    return counter\n",
    "\n",
    "#Nota: Aunque aparecen en la excepción, el He no forma compuestos con el H por ser gas noble y del Hs no se han descubierto todavía."
   ]
  },
  {
   "cell_type": "markdown",
   "metadata": {},
   "source": [
    "Pruebas"
   ]
  },
  {
   "cell_type": "code",
   "execution_count": 28,
   "metadata": {},
   "outputs": [
    {
     "name": "stdout",
     "output_type": "stream",
     "text": [
      "1\n",
      "2\n",
      "5\n",
      "0\n",
      "4\n"
     ]
    }
   ],
   "source": [
    "print(contar_hidrogenos('HIO'))\n",
    "print(contar_hidrogenos('H20'))\n",
    "print(contar_hidrogenos('C2H5O'))\n",
    "print(contar_hidrogenos('Fe3O4'))\n",
    "print(contar_hidrogenos('HfH4'))"
   ]
  },
  {
   "cell_type": "markdown",
   "metadata": {},
   "source": [
    "<div align=\"center\"> <h3> Ejercicios de listas <h3> </div>"
   ]
  },
  {
   "cell_type": "markdown",
   "metadata": {},
   "source": [
    "7. Diseña la función mediaTempRang(lst) en que, dada una lista lst de medidas de\n",
    "temperatura en ºC de un experimento, calcule y devuelva el valor medio de aquellas\n",
    "temperaturas de la lista que estén en el rango de 15 a 45 ºC, inclusive [15, 45]. Devolver el\n",
    "resultado redondeado a 2 cifras decimales. También considerar el caso en que ninguna\n",
    "medida de temperatura de la lista esté en el rango dado. En este caso la función devuelve el\n",
    "valor -1."
   ]
  },
  {
   "cell_type": "code",
   "execution_count": 29,
   "metadata": {},
   "outputs": [],
   "source": [
    "def mediaTempRang(lst):\n",
    "\n",
    "    suma=0\n",
    "    counter=0\n",
    "\n",
    "    for temp in lst:\n",
    "        if (temp>=15) and (temp<=45):\n",
    "            suma+=temp\n",
    "            counter+=1\n",
    "    \n",
    "    if counter==0:\n",
    "        return -1\n",
    "\n",
    "    result=suma/counter\n",
    "\n",
    "    return round(result,2)\n",
    "\n",
    "#Hay otra forma de hacer esto con numpy, que consiste en transformar la lista en un array e indexarlo. \n",
    "#Es más conciso y eficiente, especialmente con listas grandes, donde el for se vuelve muy lento."
   ]
  },
  {
   "cell_type": "markdown",
   "metadata": {},
   "source": [
    "Pruebas"
   ]
  },
  {
   "cell_type": "code",
   "execution_count": 30,
   "metadata": {},
   "outputs": [
    {
     "name": "stdout",
     "output_type": "stream",
     "text": [
      "28.98\n",
      "22.9\n",
      "-1\n",
      "16.0\n"
     ]
    }
   ],
   "source": [
    "lst1 = [34.5, 12.9, 15, 43, 51.4, 23.4]\n",
    "print(mediaTempRang(lst1))\n",
    "\n",
    "print(mediaTempRang([45.5, 12.9, 15, 32.5, 51.4, 21.2]))\n",
    "\n",
    "print(mediaTempRang([14.5, 12.6, 47.8]))\n",
    "\n",
    "print(mediaTempRang([15, 16, 14, 50, 17]))\n"
   ]
  },
  {
   "cell_type": "markdown",
   "metadata": {},
   "source": [
    "8. El umbral de nivel de presión del sonido (sound pressure level, SPL) del oído humano es\n",
    "aproximadamente de 20 P a frecuencias medias de la voz. Este valor se considera el nivel de\n",
    "presión de sonido (SPL) de referencia, 0 dB (20log10(20/20)). La función SPL_dB(P) recibe una\n",
    "presión acústica en P, y devuelve su equivalente en dB.\n",
    "Diseñar la función detect2ndNdB(lst, N), en que dada una lista lst de valores de nivel de\n",
    "presión de sonido (SPL) en P, y un valor N (dB), busque y devuelva el valor de la segunda\n",
    "presión SPL que sea al menos de N dB. Por ejemplo, N = 30 dB es el nivel de un susurro en el\n",
    "oído, N = 50 dB es el nivel de una conversación normal, N = 80 dB es el nivel de ruido en una\n",
    "calle con tráfico. En caso de no encontrar una segunda presión SPL se ha de devolver -1.\n",
    "Notas: (i) Se debe usar la función SPL_dB(P) que convierte en dB la presión de entrada en P.\n",
    "(ii) Se debe buscar la 2ª presión de acuerdo a la ubicación en la lista original del argumento."
   ]
  },
  {
   "cell_type": "code",
   "execution_count": 31,
   "metadata": {},
   "outputs": [],
   "source": [
    "from math import log10\n",
    "\n",
    "def SPL_dB(P):\n",
    " return 20*log10(P/20)\n",
    "\n",
    "def detect2ndNdB(lst, N):\n",
    "\n",
    "  counter=0\n",
    "  index=-1\n",
    "\n",
    "  for spl in lst:\n",
    "    index +=1\n",
    "    if SPL_dB(spl) >= N:\n",
    "      counter +=1\n",
    "      if counter==2:\n",
    "           break\n",
    "         \n",
    "  if counter <2:\n",
    "    return -1\n",
    "\n",
    "  return lst[index]\n",
    "    "
   ]
  },
  {
   "cell_type": "markdown",
   "metadata": {},
   "source": [
    "Pruebas"
   ]
  },
  {
   "cell_type": "code",
   "execution_count": 32,
   "metadata": {},
   "outputs": [
    {
     "name": "stdout",
     "output_type": "stream",
     "text": [
      "650\n",
      "2000\n",
      "-1\n",
      "2500000.0\n",
      "-1\n"
     ]
    }
   ],
   "source": [
    "print(detect2ndNdB([90,590,750,632, 650, 900, 2000, 789, 545], 30))\n",
    "print(detect2ndNdB([90,590,750,632, 650, 900, 2000, 789, 545], 33))\n",
    "print(detect2ndNdB([90,590,750,632, 630, 600, 200, 589, 545], 30))\n",
    "print(detect2ndNdB([9e3,1e4,1.1e5,2.2e5, 1.3e6, 2.5e6, 3.2e6], 83))\n",
    "print(detect2ndNdB([2000, 2450.5, 2500 , 456.7, 1567.8], 42))\n"
   ]
  },
  {
   "cell_type": "markdown",
   "metadata": {},
   "source": [
    "9. **Primos pitagóricos**. Diseña la función primoPitagoric2(lst) en que, dada una lista de\n",
    "números enteros positivos no repetidos, devuelva una lista con los 2 primeros números\n",
    "primos pitagóricos. Si no hubiera al menos 2 primos pitagóricos la función devuelve -1\n",
    "Un número primo es pitagórico si se puede escribir como la suma de dos cuadrados. Por\n",
    "ejemplo 5 = 22 + 11 o 13 = 22 + 32\n",
    ". Fermat demostró que un primo pitagórico p es igual a 4k +\n",
    "1, para algún valor de k entero positivo. Esta condición se puede expresar como: un número\n",
    "primo p es pitagórico si p modulo 4 es igual a 1, es decir si el residuo de dividir p entre 4 es 1."
   ]
  },
  {
   "cell_type": "code",
   "execution_count": 33,
   "metadata": {},
   "outputs": [],
   "source": [
    "def es_primo(n):\n",
    " if n <= 1: return False\n",
    "\n",
    " for d in range(2, n//2+1):\n",
    "    if n % d == 0:\n",
    "        return False\n",
    " return True\n",
    "\n",
    "def primoPitagoric2(lst):\n",
    "   #Ignoro la excepción de los enteros positivos no repetidos\n",
    "\n",
    "   result=[]\n",
    "   counter=0\n",
    "\n",
    "   for number in lst:\n",
    "        if (es_primo(number)==True) and (number % 4 == 1):\n",
    "         counter+=1\n",
    "         result.append(number)\n",
    "         if counter==2:\n",
    "            break\n",
    "\n",
    "   if counter <2:\n",
    "     return -1\n",
    "\n",
    "   return result\n"
   ]
  },
  {
   "cell_type": "markdown",
   "metadata": {},
   "source": [
    "Pruebas"
   ]
  },
  {
   "cell_type": "code",
   "execution_count": 34,
   "metadata": {},
   "outputs": [
    {
     "name": "stdout",
     "output_type": "stream",
     "text": [
      "[5, 13]\n",
      "[5, 13]\n",
      "[41, 53]\n",
      "-1\n",
      "[89, 97]\n"
     ]
    }
   ],
   "source": [
    "print(primoPitagoric2([3, 4, 5, 6, 7, 8, 9, 10, 11, 12, 13]))\n",
    "print(primoPitagoric2([5, 9, 13, 17, 21, 25, 29, 33, 37, 41]))\n",
    "print(primoPitagoric2([41, 45, 49, 53, 57, 61, 65, 69, 73, 77, 81]))\n",
    "print(primoPitagoric2([3, 4, 5, 6, 7, 8, 9, 10]))\n",
    "\n",
    "lista = [81, 85, 89, 93, 97, 101, 105, 109, 113, 117, 121]\n",
    "print(primoPitagoric2(lista))\n",
    "\n"
   ]
  },
  {
   "cell_type": "markdown",
   "metadata": {},
   "source": [
    "<div align=\"center\"> <h3> Ejercicios con listas de listas <h3> </div>"
   ]
  },
  {
   "cell_type": "markdown",
   "metadata": {},
   "source": [
    "10. **Contar positivos**. Dada una lista de listas que representa una matriz cuadrada m, diseña una\n",
    "función contar_pos(m), que cuente los números positivos que tiene."
   ]
  },
  {
   "cell_type": "code",
   "execution_count": 35,
   "metadata": {},
   "outputs": [],
   "source": [
    "def contar_pos(m):\n",
    "\n",
    "    counter=0 \n",
    "    for lst in m:\n",
    "        for elem in lst:\n",
    "            if elem>0:\n",
    "                counter +=1\n",
    "\n",
    "    return counter"
   ]
  },
  {
   "cell_type": "markdown",
   "metadata": {},
   "source": [
    "Pruebas"
   ]
  },
  {
   "cell_type": "code",
   "execution_count": 36,
   "metadata": {},
   "outputs": [
    {
     "data": {
      "text/plain": [
       "6"
      ]
     },
     "execution_count": 36,
     "metadata": {},
     "output_type": "execute_result"
    }
   ],
   "source": [
    "contar_pos([[1, -2, 3],[-4,5,6],[7,8,-9]])"
   ]
  },
  {
   "cell_type": "markdown",
   "metadata": {},
   "source": [
    "1. **Mayor densidad**. Se dispone del nombre, masa y volumen de un planeta almacenado en una\n",
    "lista: [nombre, masa, volumen]. Además, se tiene una lista de planetas como una lista de listas\n",
    "de la forma: [[nombre1, masa1, volumen1], [nombre2, masa2, volumen2], ...].\n",
    "Diseña la función mas_denso(Lst), en que dada una lista de planetas Lst, nos devuelva el\n",
    "nombre del planeta más denso de esa lista. Si hubiera más de uno con la misma densidad, se\n",
    "devuelve el primero que encuentre en la lista original."
   ]
  },
  {
   "cell_type": "code",
   "execution_count": 37,
   "metadata": {},
   "outputs": [],
   "source": [
    "def density(planet):\n",
    "        if (planet[1]<=0) or (planet[2]<=0): raise ValueError(\"Mass or volume must be positive\")\n",
    "        else: return planet[1]/planet[2]\n",
    "\n",
    "def mas_denso(lst):\n",
    "    index=-1\n",
    "    max_density=0\n",
    "    \n",
    "    for planet in lst:\n",
    "        index +=1\n",
    "        if density(planet)>max_density:\n",
    "            max_density=density(planet)\n",
    "            index_planet=index\n",
    "\n",
    "    return lst[index_planet][0]"
   ]
  },
  {
   "cell_type": "markdown",
   "metadata": {},
   "source": [
    "Pruebas"
   ]
  },
  {
   "cell_type": "code",
   "execution_count": 38,
   "metadata": {},
   "outputs": [
    {
     "data": {
      "text/plain": [
       "'Tierra'"
      ]
     },
     "execution_count": 38,
     "metadata": {},
     "output_type": "execute_result"
    }
   ],
   "source": [
    "mas_denso([['Marte', 1, 2], ['Tierra', 2, 3], ['Venus', 1, 3]])"
   ]
  },
  {
   "cell_type": "markdown",
   "metadata": {},
   "source": [
    "12. **Fútbol**. Se dispone en una lista (equipo) de listas (jugadores) con los registros de los\n",
    "jugadores. En cada registro se guarda: su número de dorsal, nombre, si es comunitario o no\n",
    "(booleano, comunitario: True), edad y la distancia recorrida en kilómetros en los partidos\n",
    "jugados en el último mes.\n",
    "No todos los jugadores han jugado todos los partidos del mes, por lo que aparecerá solo la\n",
    "distancia recorrida de los partidos jugados.\n",
    "Diseñar una función jugComKm(equipo, x) en que, dada una lista de un equipo de futbol y\n",
    "un número x de kilómetros recorridos, nos devuelva la lista de nombres de los jugadores\n",
    "comunitarios que han recorrido de media (promedio) más de x km en los partidos jugados.\n",
    "De no encontrarse jugadores con este recorrido, se devolverá la lista vacía.\n",
    "Notas: pudiera haber algún jugador sin partidos jugados y en este caso el promedio lo\n",
    "consideramos 0.\n",
    "Se valorará devolver la lista de nombres ordenada alfabéticamente."
   ]
  },
  {
   "cell_type": "code",
   "execution_count": 39,
   "metadata": {},
   "outputs": [],
   "source": [
    "def average_km(player):\n",
    " \n",
    " matches_played= len(player)-4\n",
    " \n",
    " if matches_played==0:\n",
    "    return 0\n",
    " else:\n",
    "    return sum(player[4:])/matches_played\n",
    " \n",
    "\n",
    "def jugComKm(equipo, x):\n",
    "\n",
    "    players=[]\n",
    "    \n",
    "    for player in equipo:\n",
    "        if (player[2]==True) and (average_km(player)>x):\n",
    "                players.append(player[1])\n",
    "    \n",
    "    return sorted(players)"
   ]
  },
  {
   "cell_type": "markdown",
   "metadata": {},
   "source": [
    "Pruebas"
   ]
  },
  {
   "cell_type": "code",
   "execution_count": 40,
   "metadata": {},
   "outputs": [
    {
     "name": "stdout",
     "output_type": "stream",
     "text": [
      "['Pedri', 'Ramos']\n",
      "['Pedri']\n",
      "[]\n",
      "['Iago', 'Pedri', 'Pique', 'Ramos']\n",
      "['Iago', 'Odriozola', 'Pedri', 'Pique', 'Ramos', 'Saul']\n"
     ]
    }
   ],
   "source": [
    "lst_equipo = [[3, 'Pique', True, 33, 10.2, 9.0], \\\n",
    " [4, 'Ramos', True, 34, 11.0, 11.1, 9.8, 8.5], \\\n",
    " [6, 'Koke', True, 27, 7.5, 9.6, 10.3, 6.5, 5.6], \\\n",
    " [7, 'Joao', True, 25, 10.5, 8.4, 9.0, 8.6], \\\n",
    " [8, 'Saul', True, 24, 9.5, 8.9, 10.0, 9.6], \\\n",
    " [9, 'Suarez', False, 33, 8.6, 7.5], \\\n",
    " [10, 'Lionel', False, 33, 10.0, 11.1, 9.8, 8.5,10.1], \\\n",
    " [19, 'Odriozola', True, 25, 9.5], \\\n",
    " [14, 'Araujo', False, 21, 8.9, 9.5], \\\n",
    " [15, 'Valverde', False, 22, 9.9, 10.2], \\\n",
    " [16, 'Pedri', True, 18, 10.5, 11, 9.5, 10.6], \\\n",
    " [22, 'Hermoso', False, 23, 10, 7.5, 6.6], \\\n",
    " [23, 'Iago', True, 33, 11.1, 9.0, 9.3, 8.8]]\n",
    "\n",
    "print(jugComKm(lst_equipo, 10))\n",
    "print(jugComKm(lst_equipo, 10.2))\n",
    "print(jugComKm(lst_equipo, 10.5))\n",
    "print(jugComKm(lst_equipo, 9.5))\n",
    "print(jugComKm(lst_equipo, 9.4))"
   ]
  }
 ],
 "metadata": {
  "kernelspec": {
   "display_name": "Python 3",
   "language": "python",
   "name": "python3"
  },
  "language_info": {
   "codemirror_mode": {
    "name": "ipython",
    "version": 3
   },
   "file_extension": ".py",
   "mimetype": "text/x-python",
   "name": "python",
   "nbconvert_exporter": "python",
   "pygments_lexer": "ipython3",
   "version": "3.9.2"
  }
 },
 "nbformat": 4,
 "nbformat_minor": 2
}
