{
 "cells": [
  {
   "cell_type": "markdown",
   "metadata": {},
   "source": [
    "<div align=\"center\"> <h1> Herramientas de Programación <h1>\n",
    "\n",
    "<h2>Práctica 1: Datos estructurados: strings y listas<h12>  </div>"
   ]
  },
  {
   "cell_type": "markdown",
   "metadata": {},
   "source": [
    "<div align=\"center\"> <h3> Ejercicios con strings (cadenas de caracteres) <h3> </div>"
   ]
  },
  {
   "cell_type": "code",
   "execution_count": 8,
   "metadata": {},
   "outputs": [],
   "source": [
    "#cell to import necesary libraries"
   ]
  },
  {
   "cell_type": "markdown",
   "metadata": {},
   "source": [
    "1. **Identificador válido**. Para que los identificadores o nombres de las variables o funciones sean\n",
    "válidos deben comenzar e incluir letras a..z. (minúscula o mayúscula) o el guión bajo (_).\n",
    "Pueden incluir también números (0..9) pero que no sean el primer carácter del identificador.\n",
    "Diseña una función FirstChar(s) que, dado un string s (no vacío), nos devuelva True o False\n",
    "si el string es válido o no para identificar o dar nombre a una variable o función."
   ]
  },
  {
   "cell_type": "code",
   "execution_count": 9,
   "metadata": {},
   "outputs": [],
   "source": [
    "def FirstChar(s):\n",
    "    \n",
    "    if s=='':\n",
    "        raise ValueError('Enter a non void string')\n",
    "\n",
    "    ascii_value = ord(s[0])\n",
    "\n",
    "    if (ascii_value >= ord('0') and ascii_value <= ord('9'))\\\n",
    "        or (ascii_value >= ord('A') and ascii_value <= ord('Z'))\\\n",
    "        or (ascii_value >= ord('a') and ascii_value <= ord('z'))\\\n",
    "        or ascii_value == ord('_'):\n",
    "        return True\n",
    "    else:\n",
    "        return False"
   ]
  },
  {
   "cell_type": "markdown",
   "metadata": {},
   "source": [
    "Pruebas"
   ]
  },
  {
   "cell_type": "code",
   "execution_count": 10,
   "metadata": {},
   "outputs": [
    {
     "name": "stdout",
     "output_type": "stream",
     "text": [
      "True\n",
      "True\n",
      "True\n",
      "True\n",
      "False\n"
     ]
    },
    {
     "ename": "ValueError",
     "evalue": "Enter a non void string",
     "output_type": "error",
     "traceback": [
      "\u001b[1;31m---------------------------------------------------------------------------\u001b[0m",
      "\u001b[1;31mValueError\u001b[0m                                Traceback (most recent call last)",
      "Cell \u001b[1;32mIn[10], line 6\u001b[0m\n\u001b[0;32m      4\u001b[0m \u001b[38;5;28mprint\u001b[39m(FirstChar(\u001b[38;5;124m'\u001b[39m\u001b[38;5;124m_Zutanito\u001b[39m\u001b[38;5;124m'\u001b[39m))\n\u001b[0;32m      5\u001b[0m \u001b[38;5;28mprint\u001b[39m(FirstChar(\u001b[38;5;124m'\u001b[39m\u001b[38;5;124m!Perenganito\u001b[39m\u001b[38;5;124m'\u001b[39m))\n\u001b[1;32m----> 6\u001b[0m \u001b[43mFirstChar\u001b[49m\u001b[43m(\u001b[49m\u001b[38;5;124;43m'\u001b[39;49m\u001b[38;5;124;43m'\u001b[39;49m\u001b[43m)\u001b[49m\n",
      "Cell \u001b[1;32mIn[9], line 4\u001b[0m, in \u001b[0;36mFirstChar\u001b[1;34m(s)\u001b[0m\n\u001b[0;32m      1\u001b[0m \u001b[38;5;28;01mdef\u001b[39;00m \u001b[38;5;21mFirstChar\u001b[39m(s):\n\u001b[0;32m      3\u001b[0m     \u001b[38;5;28;01mif\u001b[39;00m s\u001b[38;5;241m==\u001b[39m\u001b[38;5;124m'\u001b[39m\u001b[38;5;124m'\u001b[39m:\n\u001b[1;32m----> 4\u001b[0m         \u001b[38;5;28;01mraise\u001b[39;00m \u001b[38;5;167;01mValueError\u001b[39;00m(\u001b[38;5;124m'\u001b[39m\u001b[38;5;124mEnter a non void string\u001b[39m\u001b[38;5;124m'\u001b[39m)\n\u001b[0;32m      6\u001b[0m     ascii_value \u001b[38;5;241m=\u001b[39m \u001b[38;5;28mord\u001b[39m(s[\u001b[38;5;241m0\u001b[39m])\n\u001b[0;32m      8\u001b[0m     \u001b[38;5;28;01mif\u001b[39;00m (ascii_value \u001b[38;5;241m>\u001b[39m\u001b[38;5;241m=\u001b[39m \u001b[38;5;28mord\u001b[39m(\u001b[38;5;124m'\u001b[39m\u001b[38;5;124m0\u001b[39m\u001b[38;5;124m'\u001b[39m) \u001b[38;5;129;01mand\u001b[39;00m ascii_value \u001b[38;5;241m<\u001b[39m\u001b[38;5;241m=\u001b[39m \u001b[38;5;28mord\u001b[39m(\u001b[38;5;124m'\u001b[39m\u001b[38;5;124m9\u001b[39m\u001b[38;5;124m'\u001b[39m))\\\n\u001b[0;32m      9\u001b[0m         \u001b[38;5;129;01mor\u001b[39;00m (ascii_value \u001b[38;5;241m>\u001b[39m\u001b[38;5;241m=\u001b[39m \u001b[38;5;28mord\u001b[39m(\u001b[38;5;124m'\u001b[39m\u001b[38;5;124mA\u001b[39m\u001b[38;5;124m'\u001b[39m) \u001b[38;5;129;01mand\u001b[39;00m ascii_value \u001b[38;5;241m<\u001b[39m\u001b[38;5;241m=\u001b[39m \u001b[38;5;28mord\u001b[39m(\u001b[38;5;124m'\u001b[39m\u001b[38;5;124mZ\u001b[39m\u001b[38;5;124m'\u001b[39m))\\\n\u001b[0;32m     10\u001b[0m         \u001b[38;5;129;01mor\u001b[39;00m (ascii_value \u001b[38;5;241m>\u001b[39m\u001b[38;5;241m=\u001b[39m \u001b[38;5;28mord\u001b[39m(\u001b[38;5;124m'\u001b[39m\u001b[38;5;124ma\u001b[39m\u001b[38;5;124m'\u001b[39m) \u001b[38;5;129;01mand\u001b[39;00m ascii_value \u001b[38;5;241m<\u001b[39m\u001b[38;5;241m=\u001b[39m \u001b[38;5;28mord\u001b[39m(\u001b[38;5;124m'\u001b[39m\u001b[38;5;124mz\u001b[39m\u001b[38;5;124m'\u001b[39m))\\\n\u001b[0;32m     11\u001b[0m         \u001b[38;5;129;01mor\u001b[39;00m ascii_value \u001b[38;5;241m==\u001b[39m \u001b[38;5;28mord\u001b[39m(\u001b[38;5;124m'\u001b[39m\u001b[38;5;124m_\u001b[39m\u001b[38;5;124m'\u001b[39m):\n",
      "\u001b[1;31mValueError\u001b[0m: Enter a non void string"
     ]
    }
   ],
   "source": [
    "print(FirstChar('Fulanito'))\n",
    "print(FirstChar('fulanito'))\n",
    "print(FirstChar('1Menganito'))\n",
    "print(FirstChar('_Zutanito'))\n",
    "print(FirstChar('!Perenganito'))\n",
    "FirstChar('')"
   ]
  },
  {
   "cell_type": "markdown",
   "metadata": {},
   "source": [
    "2. **Porcentaje de vocales**. Escribe una función porcentVocal(s) en que dado un string s, la\n",
    "función devuelva el porcentaje de vocales que contiene el string. Deben considerarse vocales\n",
    "minúsculas y mayúsculas. Devolver el resultado con un decimal de precisión.\n",
    "Consideraremos que las vocales están sin tilde o acento gráfico. Se valorará prever el caso que\n",
    "se envíe como argumento un string vacío."
   ]
  },
  {
   "cell_type": "code",
   "execution_count": 45,
   "metadata": {},
   "outputs": [],
   "source": [
    "def porcentVocals(s):\n",
    "    if s=='':\n",
    "        raise ValueError('Enter a non void string')\n",
    "    \n",
    "    vocal_counter=0\n",
    "\n",
    "    for character in s:\n",
    "        if character in ['a', 'e', 'i', 'o', 'u', 'A', 'E', 'I', 'O', 'U']:\n",
    "            vocal_counter += 1\n",
    "\n",
    "    result=vocal_counter*100/len(s)\n",
    "    \n",
    "    return round(result,1)"
   ]
  },
  {
   "cell_type": "markdown",
   "metadata": {},
   "source": [
    "Pruebas"
   ]
  },
  {
   "cell_type": "code",
   "execution_count": 46,
   "metadata": {},
   "outputs": [
    {
     "name": "stdout",
     "output_type": "stream",
     "text": [
      "43.5\n",
      "100.0\n",
      "33.3\n",
      "0.0\n",
      "4.2\n",
      "46.9\n"
     ]
    },
    {
     "ename": "ValueError",
     "evalue": "Enter a non void string",
     "output_type": "error",
     "traceback": [
      "\u001b[1;31m---------------------------------------------------------------------------\u001b[0m",
      "\u001b[1;31mValueError\u001b[0m                                Traceback (most recent call last)",
      "Cell \u001b[1;32mIn[46], line 7\u001b[0m\n\u001b[0;32m      5\u001b[0m \u001b[38;5;28mprint\u001b[39m(porcentVocals(\u001b[38;5;124m'\u001b[39m\u001b[38;5;124maRRRRRRRRRRRRRRRRRRRRRRR\u001b[39m\u001b[38;5;124m'\u001b[39m))\n\u001b[0;32m      6\u001b[0m \u001b[38;5;28mprint\u001b[39m(porcentVocals(\u001b[38;5;124m'\u001b[39m\u001b[38;5;124mSupercalifragilisticoespialidoso\u001b[39m\u001b[38;5;124m'\u001b[39m))\n\u001b[1;32m----> 7\u001b[0m \u001b[43mporcentVocals\u001b[49m\u001b[43m(\u001b[49m\u001b[38;5;124;43m'\u001b[39;49m\u001b[38;5;124;43m'\u001b[39;49m\u001b[43m)\u001b[49m\n",
      "Cell \u001b[1;32mIn[45], line 3\u001b[0m, in \u001b[0;36mporcentVocals\u001b[1;34m(s)\u001b[0m\n\u001b[0;32m      1\u001b[0m \u001b[38;5;28;01mdef\u001b[39;00m \u001b[38;5;21mporcentVocals\u001b[39m(s):\n\u001b[0;32m      2\u001b[0m     \u001b[38;5;28;01mif\u001b[39;00m s\u001b[38;5;241m==\u001b[39m\u001b[38;5;124m'\u001b[39m\u001b[38;5;124m'\u001b[39m:\n\u001b[1;32m----> 3\u001b[0m         \u001b[38;5;28;01mraise\u001b[39;00m \u001b[38;5;167;01mValueError\u001b[39;00m(\u001b[38;5;124m'\u001b[39m\u001b[38;5;124mEnter a non void string\u001b[39m\u001b[38;5;124m'\u001b[39m)\n\u001b[0;32m      5\u001b[0m     vocal_counter\u001b[38;5;241m=\u001b[39m\u001b[38;5;241m0\u001b[39m\n\u001b[0;32m      7\u001b[0m     \u001b[38;5;28;01mfor\u001b[39;00m character \u001b[38;5;129;01min\u001b[39;00m s:\n",
      "\u001b[1;31mValueError\u001b[0m: Enter a non void string"
     ]
    }
   ],
   "source": [
    "print(porcentVocals('Anticonstitucionalmente'))\n",
    "print(porcentVocals('Aeiou'))\n",
    "print(porcentVocals('ESP'))\n",
    "print(porcentVocals('HRC'))\n",
    "print(porcentVocals('aRRRRRRRRRRRRRRRRRRRRRRR'))\n",
    "print(porcentVocals('Supercalifragilisticoespialidoso'))\n",
    "porcentVocals('')"
   ]
  },
  {
   "cell_type": "markdown",
   "metadata": {},
   "source": [
    "3. **Nuevo string**. Diseña una función nuevo_string (s, n) que, dado un string s y un entero\n",
    "n ≥ 0, devuelva el string resultante de repetir cada vocal de s exactamente n veces en el lugardonde se encuentra situada en s.\n"
   ]
  },
  {
   "cell_type": "code",
   "execution_count": 23,
   "metadata": {},
   "outputs": [],
   "source": [
    "def nuevo_string(s, n):\n",
    "    \n",
    "   if type(n) != int or n < 0:\n",
    "      raise ValueError('n must be a positive integer')\n",
    "   \n",
    "   new_s=''\n",
    "\n",
    "   for character in s:\n",
    "      if character in ['a', 'e', 'i', 'o', 'u', 'A', 'E', 'I', 'O', 'U']:\n",
    "         new_s += n*character\n",
    "      else:\n",
    "         new_s += character\n",
    "\n",
    "   return new_s"
   ]
  },
  {
   "cell_type": "markdown",
   "metadata": {},
   "source": [
    "Pruebas"
   ]
  },
  {
   "cell_type": "code",
   "execution_count": 27,
   "metadata": {},
   "outputs": [
    {
     "name": "stdout",
     "output_type": "stream",
     "text": [
      "Suupeercaaliifraagiiliistiicooeespiiaaliidoosoo\n",
      "Looooooooooneeeeey Tuuuuuneeeees\n",
      "oooboooeee\n",
      "HRC\n"
     ]
    },
    {
     "ename": "ValueError",
     "evalue": "n must be a positive integer",
     "output_type": "error",
     "traceback": [
      "\u001b[1;31m---------------------------------------------------------------------------\u001b[0m",
      "\u001b[1;31mValueError\u001b[0m                                Traceback (most recent call last)",
      "Cell \u001b[1;32mIn[27], line 5\u001b[0m\n\u001b[0;32m      3\u001b[0m \u001b[38;5;28mprint\u001b[39m(nuevo_string(\u001b[38;5;124m'\u001b[39m\u001b[38;5;124moboe\u001b[39m\u001b[38;5;124m'\u001b[39m, \u001b[38;5;241m3\u001b[39m))\n\u001b[0;32m      4\u001b[0m \u001b[38;5;28mprint\u001b[39m(nuevo_string(\u001b[38;5;124m'\u001b[39m\u001b[38;5;124mHRC\u001b[39m\u001b[38;5;124m'\u001b[39m, \u001b[38;5;241m7\u001b[39m))\n\u001b[1;32m----> 5\u001b[0m \u001b[38;5;28mprint\u001b[39m(\u001b[43mnuevo_string\u001b[49m\u001b[43m(\u001b[49m\u001b[38;5;124;43m'\u001b[39;49m\u001b[38;5;124;43mtest\u001b[39;49m\u001b[38;5;124;43m'\u001b[39;49m\u001b[43m,\u001b[49m\u001b[43m \u001b[49m\u001b[38;5;241;43m0.5\u001b[39;49m\u001b[43m)\u001b[49m)\n",
      "Cell \u001b[1;32mIn[23], line 4\u001b[0m, in \u001b[0;36mnuevo_string\u001b[1;34m(s, n)\u001b[0m\n\u001b[0;32m      1\u001b[0m \u001b[38;5;28;01mdef\u001b[39;00m \u001b[38;5;21mnuevo_string\u001b[39m(s, n):\n\u001b[0;32m      3\u001b[0m    \u001b[38;5;28;01mif\u001b[39;00m \u001b[38;5;28mtype\u001b[39m(n) \u001b[38;5;241m!=\u001b[39m \u001b[38;5;28mint\u001b[39m \u001b[38;5;129;01mor\u001b[39;00m n \u001b[38;5;241m<\u001b[39m \u001b[38;5;241m0\u001b[39m:\n\u001b[1;32m----> 4\u001b[0m       \u001b[38;5;28;01mraise\u001b[39;00m \u001b[38;5;167;01mValueError\u001b[39;00m(\u001b[38;5;124m'\u001b[39m\u001b[38;5;124mn must be a positive integer\u001b[39m\u001b[38;5;124m'\u001b[39m)\n\u001b[0;32m      6\u001b[0m    new_s\u001b[38;5;241m=\u001b[39m\u001b[38;5;124m'\u001b[39m\u001b[38;5;124m'\u001b[39m\n\u001b[0;32m      8\u001b[0m    \u001b[38;5;28;01mfor\u001b[39;00m character \u001b[38;5;129;01min\u001b[39;00m s:\n",
      "\u001b[1;31mValueError\u001b[0m: n must be a positive integer"
     ]
    }
   ],
   "source": [
    "print(nuevo_string('Supercalifragilisticoespialidoso', 2))\n",
    "print(nuevo_string('Looney Tunes', 5))\n",
    "print(nuevo_string('oboe', 3))\n",
    "print(nuevo_string('HRC', 7))\n",
    "print(nuevo_string('test', 0.5))\n"
   ]
  },
  {
   "cell_type": "markdown",
   "metadata": {},
   "source": [
    "4. **Notas al pie de página**. Diseña una función notas_al_pie(s) que, dado un string s formado sólo por letras, signos de puntuación y asteriscos que indican una llamada a una nota al pie de página, devuelva un string donde cada asterisco es sustituido por un número entre\n",
    "paréntesis que indica el número de nota. El primer * se substituye por (1), el segundo por (2), etc."
   ]
  },
  {
   "cell_type": "code",
   "execution_count": 43,
   "metadata": {},
   "outputs": [],
   "source": [
    "def notas_al_pie(s):\n",
    "\n",
    "    if s=='':\n",
    "        raise ValueError('Enter a non void string')\n",
    "    \n",
    "    new_s=''\n",
    "    counter=1\n",
    "\n",
    "    for character in s:\n",
    "        if character == '*':\n",
    "            new_s += f\"({counter})\"\n",
    "            counter+=1\n",
    "        else:\n",
    "            new_s += character\n",
    "    \n",
    "    return new_s\n",
    "    "
   ]
  },
  {
   "cell_type": "markdown",
   "metadata": {},
   "source": [
    "Pruebas"
   ]
  },
  {
   "cell_type": "code",
   "execution_count": 44,
   "metadata": {},
   "outputs": [
    {
     "name": "stdout",
     "output_type": "stream",
     "text": [
      "Esta es la primera nota(1); y esta la segunda(2).\n",
      "Esta frase no tiene notas. Esta otra tampoco.\n",
      "(1),(2). (3).\n"
     ]
    }
   ],
   "source": [
    "print(notas_al_pie('Esta es la primera nota*; y esta la segunda*.'))\n",
    "print(notas_al_pie('Esta frase no tiene notas. Esta otra tampoco.'))\n",
    "print(notas_al_pie('*,*. *.'))"
   ]
  },
  {
   "cell_type": "markdown",
   "metadata": {},
   "source": [
    "5. **Calcula código**. Dado un string s que contiene los nombres y apellidos de una persona, diseña\n",
    "la función codigo(s) que devuelva el string ini + str(count), donde ini contiene las iniciales\n",
    "de la persona (las letras mayúsculas de s) y count es el número total de letras de sus nombres\n",
    "y apellidos (es decir, las letras de s sin contar caracteres blancos o espacios)."
   ]
  },
  {
   "cell_type": "code",
   "execution_count": 37,
   "metadata": {},
   "outputs": [],
   "source": [
    "def codigo(s):\n",
    "    new_s=s.strip()\n",
    "    ini=''\n",
    "\n",
    "    for character in new_s:\n",
    "            if ord(character) >= ord('A') and ord(character) <= ord('Z'):\n",
    "                ini += character\n",
    "                    \n",
    "    count=f\"{len(new_s)}\"\n",
    "\n",
    "    return ini+count"
   ]
  },
  {
   "cell_type": "markdown",
   "metadata": {},
   "source": [
    "Prueba"
   ]
  },
  {
   "cell_type": "code",
   "execution_count": 42,
   "metadata": {},
   "outputs": [
    {
     "name": "stdout",
     "output_type": "stream",
     "text": [
      "CRDSA35\n",
      "PDJFPJNMRCSTMPCRP144\n"
     ]
    }
   ],
   "source": [
    "print(codigo('Cristiano Ronaldo Dos Santos Aveiro'))\n",
    "print(codigo('Pablo Diego Jose Francisco de Paula Juan Nepomuceno Maria de los Remedios Cipriano de la Santísima Trinidad Martir Patricio Clito Ruiz y Picasso'))"
   ]
  },
  {
   "cell_type": "markdown",
   "metadata": {},
   "source": [
    "6. **Contador de hidrógenos**. Una fórmula química es una representación convencional de los\n",
    "elementos que forman un compuesto. Por ejemplo, el 1-2-butadiol sería C2H5O, que se\n",
    "representa con el string 'C2H5O'. También pueden aparecer elementos químicos de dos\n",
    "caracteres como el calcio Ca en CaCO3 ( 'CaCO3') o el hierro Fe en Fe3O4 ( 'Fe3O4'). En estos\n",
    "casos el segundo carácter del símbolo siempre es una minúscula. Diseña la función\n",
    "contar_hidrogenos(s) que, dado un string s con un compuesto como los descritos antes,\n",
    "devuelve el número de átomos de hidrógeno que contiene. Para simplificar el problema,\n",
    "limitaremos el número que puede seguir el símbolo de un elemento a un valor entre 2 y 9."
   ]
  },
  {
   "cell_type": "code",
   "execution_count": 71,
   "metadata": {},
   "outputs": [],
   "source": [
    "def contar_hidrogenos(s):\n",
    "    \n",
    "    counter = 0\n",
    "    index = 0\n",
    "\n",
    "    for character in s:\n",
    "        if character == 'H':\n",
    "            counter+=1\n",
    "            if s[index+1]=='e' or s[index+1]=='f' or s[index+1]=='s': #Excepciones para He,Hf y Hs.\n",
    "                counter-=1\n",
    "            if s[index+1] in ['2', '3', '4', '5', '6', '7', '8', '9']:\n",
    "                counter+=int(s[index+1])-1\n",
    "        \n",
    "        index += 1\n",
    "    \n",
    "    return counter\n",
    "\n",
    "#Nota: Aunque aparecen en la excepción, el He no forma compuestos con el H por ser gas noble y del Hs no se han descubierto todavía."
   ]
  },
  {
   "cell_type": "markdown",
   "metadata": {},
   "source": [
    "Pruebas"
   ]
  },
  {
   "cell_type": "code",
   "execution_count": 72,
   "metadata": {},
   "outputs": [
    {
     "name": "stdout",
     "output_type": "stream",
     "text": [
      "1\n",
      "2\n",
      "5\n",
      "0\n",
      "4\n"
     ]
    }
   ],
   "source": [
    "print(contar_hidrogenos('HIO'))\n",
    "print(contar_hidrogenos('H20'))\n",
    "print(contar_hidrogenos('C2H5O'))\n",
    "print(contar_hidrogenos('Fe3O4'))\n",
    "print(contar_hidrogenos('HfH4'))"
   ]
  }
 ],
 "metadata": {
  "kernelspec": {
   "display_name": "Python 3",
   "language": "python",
   "name": "python3"
  },
  "language_info": {
   "codemirror_mode": {
    "name": "ipython",
    "version": 3
   },
   "file_extension": ".py",
   "mimetype": "text/x-python",
   "name": "python",
   "nbconvert_exporter": "python",
   "pygments_lexer": "ipython3",
   "version": "3.11.9"
  }
 },
 "nbformat": 4,
 "nbformat_minor": 2
}
