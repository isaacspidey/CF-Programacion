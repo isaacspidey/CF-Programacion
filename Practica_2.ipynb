{
 "cells": [
  {
   "cell_type": "markdown",
   "metadata": {},
   "source": [
    "<div align=\"center\"> <h1> Herramientas de Programación <h1>\n",
    "\n",
    "<h2>Práctica 2: Datos estructurados: diccionarios y DataFrames<h12>  </div>"
   ]
  },
  {
   "cell_type": "markdown",
   "metadata": {},
   "source": [
    "<div align=\"center\"> <h3> Ejercicios con diccionarios <h3> </div>"
   ]
  },
  {
   "cell_type": "markdown",
   "metadata": {},
   "source": [
    "1. **Frecuencia de pares**. Diseña una función dpar(M), en que, dada una lista M de números enteros\n",
    "positivos, devuelva un diccionario donde se muestre la frecuencia de aparición de los números\n",
    "pares de M"
   ]
  },
  {
   "cell_type": "code",
   "execution_count": 6,
   "metadata": {},
   "outputs": [],
   "source": [
    "def dpar(M):\n",
    "    \n",
    "    dic={}\n",
    "    \n",
    "    for number in M:\n",
    "        if number%2==0:\n",
    "                if number not in dic:\n",
    "                    dic[number]=1\n",
    "                else:\n",
    "                    dic[number] +=1\n",
    "    \n",
    "    return dic"
   ]
  },
  {
   "cell_type": "markdown",
   "metadata": {},
   "source": [
    "Pruebas"
   ]
  },
  {
   "cell_type": "code",
   "execution_count": 7,
   "metadata": {},
   "outputs": [
    {
     "data": {
      "text/plain": [
       "{12: 3, 18: 5, 16: 2, 20: 4, 14: 3}"
      ]
     },
     "execution_count": 7,
     "metadata": {},
     "output_type": "execute_result"
    }
   ],
   "source": [
    "M = [12, 19, 19, 18, 18, 16, 18, 13, 19, 18, 12, 18, 11, 20, 14,\\\n",
    " 14, 20, 20, 20, 16, 13, 15, 19, 14, 12]\n",
    "\n",
    "dpar(M)"
   ]
  },
  {
   "cell_type": "markdown",
   "metadata": {},
   "source": [
    "2. **Temperaturas ciudades**. Se tienen las temperaturas de ciudades durante los primeros 4 meses\n",
    "del año en una lista de listas, donde cada lista representa la información de una ciudad (nombre y\n",
    "luego las temperaturas). Diseña una función TempMaxMin(lst) en que, dada una lista de listas\n",
    "como que la que se presenta, devuelva un diccionario con los nombres de las ciudades como claves\n",
    "y como valores una lista con las temperaturas máxima y mínima."
   ]
  },
  {
   "cell_type": "code",
   "execution_count": 14,
   "metadata": {},
   "outputs": [],
   "source": [
    "def TempMaxMin(lst):\n",
    "\n",
    "    dic={}\n",
    "\n",
    "    for city in lst:\n",
    "        dic[city[0]]=[max(city[1:]),min(city[1:])]\n",
    "    \n",
    "    return dic"
   ]
  },
  {
   "cell_type": "markdown",
   "metadata": {},
   "source": [
    "Pruebas"
   ]
  },
  {
   "cell_type": "code",
   "execution_count": 15,
   "metadata": {},
   "outputs": [
    {
     "data": {
      "text/plain": [
       "{'Londres': [10.5, 3.4],\n",
       " 'Oslo': [5.1, -5.0],\n",
       " 'Berlin': [13.0, 4.1],\n",
       " 'Málaga': [19.5, 12.3]}"
      ]
     },
     "execution_count": 15,
     "metadata": {},
     "output_type": "execute_result"
    }
   ],
   "source": [
    "lst_ciudad = [['Londres', 3.4, 6.3, 10.5, 6.8], ['Oslo', -3.8, -5.0, 5.1, 4.2],\n",
    " ['Berlin', 7.5, 4.1, 12.3, 13.0], ['Málaga', 14.7, 12.3, 19.5, 18.4]]\n",
    "\n",
    "TempMaxMin(lst_ciudad)\n"
   ]
  },
  {
   "cell_type": "markdown",
   "metadata": {},
   "source": [
    "3. **Temperaturas nevada**. Se dispone de dos diccionarios. En uno de ellos (ej. dPersC) se guardan,\n",
    "como claves, nombres de personas y como valores los nombres de las ciudades donde residen; y\n",
    "en el otro (ej. dCiudT) se guardan, como claves, nombres de ciudades y como valores las\n",
    "respectivas temperaturas de esas ciudades (en ºC), medidas el día de la primera nevada del año.\n",
    "Diseña una función PersMayTemp(dPersC, dCiudT) en que, dados dos diccionarios como los\n",
    "descritos, devuelva una lista con los nombres de las personas que residen en ciudades en las cuales\n",
    "la temperatura estuvo por debajo de 0ºC el día de esa primera nevada de este año. La lista\n",
    "resultante debe estar ordenada alfabéticamente. En caso de no haber ciudades con temperaturas\n",
    "bajo cero, se devolverá la lista vacía. "
   ]
  },
  {
   "cell_type": "code",
   "execution_count": 18,
   "metadata": {},
   "outputs": [],
   "source": [
    "def PersMayTemp(dPer,dCiu):\n",
    "\n",
    "    lst=[]\n",
    "    lst_dCiu=[]\n",
    "\n",
    "    for city in dCiu:\n",
    "        if dCiu[city]<0:\n",
    "            lst_dCiu.append(city)\n",
    "\n",
    "    for person in dPer:\n",
    "        if dPer[person] in lst_dCiu:\n",
    "            lst.append(person)\n",
    "\n",
    "    return sorted(lst)"
   ]
  },
  {
   "cell_type": "markdown",
   "metadata": {},
   "source": [
    "Pruebas"
   ]
  },
  {
   "cell_type": "code",
   "execution_count": 19,
   "metadata": {},
   "outputs": [
    {
     "data": {
      "text/plain": [
       "['Carlos', 'Ernesto', 'Puyol', 'Sergi']"
      ]
     },
     "execution_count": 19,
     "metadata": {},
     "output_type": "execute_result"
    }
   ],
   "source": [
    "dCi = {'Manchester': 1.1, 'Madrid': -8.9, 'Gava': 4, \\\n",
    " 'Pobla de Segur': -5.6, 'Lleida': -3.2, 'Elche': 2.1, \\\n",
    " 'Burgos': -6.0, 'Sant Boi': 4.5}\n",
    "\n",
    "dPe = {'Pepe': 'Manchester', 'Lionel': 'Gava', 'Mike': 'Sant Boi', \\\n",
    " 'Puyol': 'Pobla de Segur', 'Jaime': 'Elche', 'Sergi': 'Lleida',\\\n",
    " 'Ernesto': 'Madrid', 'Carlos': 'Burgos'}\n",
    "\n",
    "PersMayTemp(dPe, dCi)"
   ]
  },
  {
   "cell_type": "markdown",
   "metadata": {},
   "source": [
    "4. **Hipertensión**. Se dispone de un diccionario de personas con su presión arterial. En cada elemento\n",
    "del diccionario la clave es el nombre de la persona y el valor es una lista con la edad y las presiones\n",
    "sistólica (alta) y diastólica (baja). Si consideramos que una persona sufre de hipertensión si la\n",
    "presión sistólica es mayor o igual a 140 mmHg o la diastólica es mayor o igual a 90 mmHg, diseña\n",
    "una función lst_hiper(dic, edad) en que, dado un diccionario dic como el descrito y una edad,\n",
    "devuelva la lista de los nombres de las personas menores de esa edad que sufren hipertensión\n",
    "arterial.\n",
    "Se valorará devolver la lista de nombres ordenada alfabéticamente."
   ]
  },
  {
   "cell_type": "code",
   "execution_count": 26,
   "metadata": {},
   "outputs": [],
   "source": [
    "def lst_hiper(dic, edad):\n",
    "\n",
    "    lst=[]\n",
    "\n",
    "    for person in dic:\n",
    "        if ((dic[person][1]>=140) or (dic[person][2]>=90))\\\n",
    "        and dic[person][0]<edad:\n",
    "            lst.append(person)\n",
    "    \n",
    "    return sorted(lst)"
   ]
  },
  {
   "cell_type": "markdown",
   "metadata": {},
   "source": [
    "Pruebas"
   ]
  },
  {
   "cell_type": "code",
   "execution_count": 29,
   "metadata": {},
   "outputs": [
    {
     "name": "stdout",
     "output_type": "stream",
     "text": [
      "['Maria']\n",
      "['Luis', 'Maria', 'Nuria']\n"
     ]
    }
   ],
   "source": [
    "dpers = {'Maria': [40, 135, 90],'Nuria': [63, 141, 92], \\\n",
    " 'Jose': [47, 110, 59], 'Luis': [49, 146, 94], \\\n",
    " 'Oriol': [52, 130, 89], 'Carlos': [65, 125, 89], \\\n",
    " 'Pepe': [70, 130, 92] }\n",
    "\n",
    "print(lst_hiper(dpers, 45))\n",
    "print(lst_hiper(dpers, 70))"
   ]
  },
  {
   "cell_type": "markdown",
   "metadata": {},
   "source": [
    "5. **Nivel de potasio en sangre**. Se tiene un diccionario con los valores de concentración de potasio\n",
    "en sangre ([K+]) de un grupo pacientes medidos antes de entrar a terapia de hemodiálisis. La clave\n",
    "es el nombre del paciente y el valor es la [K+] (en mmol/L). Además, se tiene una lista del tipo\n",
    "[valor1, valor2, valor3, valor4] con los distintos valores que clasifican la condición clínica en que\n",
    "están los pacientes, de acuerdo a las concentraciones de potasio en sangre ([K+]). Estos valores\n",
    "dependen del tipo de población (niños, adultos, etc.).\n",
    "La condición clínica del paciente sigue el siguiente criterio de clasificación:\n",
    "- Si el valor de [K+] es menor que valor1 indica 'hipokalemia crítica',\n",
    "- si es mayor o igual al valor1 y menor que el valor2 sería 'hipokalemia leve',\n",
    "- si está entre valor2 y valor3 (ambos inclusive) indica 'normal',\n",
    "- si es mayor que valor3 y menor o igual que valor4 es 'hiperkalemia moderada'\n",
    "- y valores mayores que valor4 sería 'hiperkalemia severa'.\n",
    "Ejemplo de una lista con elementos [valor1, valor2, valor3, valor4] para un adulto de mediana edad:\n",
    "[2.0, 3.5, 5.2, 7.0]\n",
    "Diseña una función nivelKsang(dK, lst) en que, dado un diccionario dK que tiene como clave el\n",
    "nombre de un paciente y como valor su nivel de [K+] en sangre, y una lista lst con 4 valores de\n",
    "clasificación, como los descritos, devuelva un diccionario que tenga como claves los nombres de los\n",
    "pacientes y como valores su clasificación, de acuerdo a los niveles de [K+] en sangre."
   ]
  },
  {
   "cell_type": "code",
   "execution_count": 34,
   "metadata": {},
   "outputs": [],
   "source": [
    "def nivelKsang(dK, lst):\n",
    "\n",
    "    dic={}\n",
    "\n",
    "    for patient in dK:\n",
    "        if dK[patient]<lst[0]: dic[patient]='hipokalemia crítica'\n",
    "        elif lst[0] <= dK[patient] <lst[1]: dic[patient]='hipokalemia leve'\n",
    "        elif lst[1] <= dK[patient] <=lst[2]: dic[patient]='normal'\n",
    "        elif lst[2] < dK[patient] <=lst[3]: dic[patient]='hiperkalemia moderada'\n",
    "        else: dic[patient]='hiperkalemia severa'\n",
    "\n",
    "    return dic"
   ]
  },
  {
   "cell_type": "markdown",
   "metadata": {},
   "source": [
    "Pruebas"
   ]
  },
  {
   "cell_type": "code",
   "execution_count": 35,
   "metadata": {},
   "outputs": [
    {
     "data": {
      "text/plain": [
       "{'Luis': 'hipokalemia leve',\n",
       " 'Carlos': 'hiperkalemia moderada',\n",
       " 'Laia': 'normal',\n",
       " 'Mikel': 'hiperkalemia moderada',\n",
       " 'Jordi': 'normal',\n",
       " 'Anna': 'normal',\n",
       " 'Joe': 'hiperkalemia severa'}"
      ]
     },
     "execution_count": 35,
     "metadata": {},
     "output_type": "execute_result"
    }
   ],
   "source": [
    "dK1 = {'Luis': 2.2, 'Carlos': 7.0, 'Laia': 4.0, 'Mikel': 5.5, \\\n",
    " 'Jordi': 5.2, 'Anna': 3.6, 'Joe': 7.2}\n",
    " \n",
    "ls1 = [2.0, 3.5, 5.2, 7.0]\n",
    "\n",
    "nivelKsang(dK1, ls1)\n"
   ]
  }
 ],
 "metadata": {
  "kernelspec": {
   "display_name": "Python 3",
   "language": "python",
   "name": "python3"
  },
  "language_info": {
   "codemirror_mode": {
    "name": "ipython",
    "version": 3
   },
   "file_extension": ".py",
   "mimetype": "text/x-python",
   "name": "python",
   "nbconvert_exporter": "python",
   "pygments_lexer": "ipython3",
   "version": "3.9.2"
  }
 },
 "nbformat": 4,
 "nbformat_minor": 2
}
